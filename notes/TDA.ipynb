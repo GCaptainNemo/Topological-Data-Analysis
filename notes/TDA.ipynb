{
 "cells": [
  {
   "cell_type": "markdown",
   "metadata": {},
   "source": [
    "# 拓扑数据分析"
   ]
  },
  {
   "cell_type": "markdown",
   "metadata": {},
   "source": [
    "## 一、介绍\n",
    "拓扑数据分析(Topological data analysis, TDA)是一种点云数据**拓扑表示方法**。一般来说，我们对数据提取特征(或者说表示)是依赖它所在的度量空间的，比如直接以数据的坐标作为它的特征，而这种提取特征的方法对坐标的选取是敏感的，TDA提取的特征则是数据中的**拓扑不变量**(比如洞的数目)，这些特征对坐标的选取不敏感，甚至对任意连续映射不敏感。\n",
    "\n",
    "![topological-invariance](./resources/topo_invariance.png)\n",
    "\n",
    "### 1.1 拓扑空间\n",
    "拓扑空间是一个二元组$X = (S, \\tau)$，其中S是一个集合，$\\tau$是$S$子集构成的集合族，称为拓扑。拓扑$\\tau$满足三个性质:\n",
    "* 1. 空集$\\emptyset$和全集$S$是拓扑$\\tau$的元素\n",
    "* 2. 拓扑$\\tau$中任意有限个集合的交集仍是拓扑$\\tau$的元素\n",
    "* 3. 拓扑$\\tau$中任意无限个集合的并集仍是拓扑$\\tau$的元素\n",
    "\n",
    "拓扑$\\tau$定义了集合$S$的所有开集，拓扑$\\tau$就是集合$S$的开集族。\n",
    "\n",
    "### 1.2 连续映射\n",
    "定义了拓扑空间之后，可以定义拓扑空间之间的连续映射，称$f：X \\rightarrow Y$是拓扑空间$X, Y$的连续映射当Y中任意开集的原像是X中的开集。拓扑学就是研究**拓扑空间**以及它们之间的**连续映射**。若$f$的正逆映射都是连续映射(双射)，则称$f$是一个拓扑同胚映射(homeomorphism)，称拓扑空间$X,Y$拓扑同胚。\n",
    "\n",
    "### 1.3 采样空间与观测\n",
    "拓扑数据分析的假设是数据的采样空间(sample space)$X$是一个拓扑空间，这是一个非常弱的假设，因为任意的度量空间都是一个拓扑空间。收集数据这个过程是可行域(viable domain)$A \\subset X$上的一个观测映射$f:X \\rightarrow Y$。\n",
    "\n",
    "拓扑数据分析(TDA)就是要在给定$Y$上有限样本的情况下，计算出$X$上的拓扑不变量。"
   ]
  },
  {
   "cell_type": "markdown",
   "metadata": {},
   "source": [
    "## 二、单纯形与单纯复形\n",
    "### 2.1 单纯形\n",
    "TDA需要一个可以将拓扑信息变成一个可计算问题的媒介，就是单纯形(simplices)。一个n维单纯形就是一个n维物体，即在n维空间中由$n+1$个仿射独立点构成的凸包(convex hull)。\n",
    "\n",
    "![simplices](./resources/simplices.png)\n",
    "\n",
    "### 2.2 单纯复形\n",
    "单纯复形(Siimplical complexes)是单纯形构成的集合，n维单纯复形含有n维即以下维度的单纯形。单纯复形是图(graph)的一般化，零维单纯复形是点集，一维单纯复形是图，......。\n",
    "\n",
    "**数学定义**：单纯复形是一个二元组$(V, K)$，$V$是顶点集合，$K$是$V$部分子集构成的集合族，满足\n",
    "\n",
    "$$\\sigma \\in K \\rightarrow any \\ subset \\quad \\eta \\subset  \\sigma \\in K $$有$\\eta \\in K$\n",
    "\n",
    "![simplical-complexes](./resources/simplical_complexes.png)"
   ]
  },
  {
   "cell_type": "markdown",
   "metadata": {},
   "source": [
    "### 2.3 计算单纯复形\n",
    "假设数据点$X$是度量空间$(M, \\rho)$上的一个有限集合，$d$是从度量空间继承的度量，且$\\alpha \\in \\mathbb{R}^+$。\n",
    "有两种定义关于数据单纯复形的方式\n",
    "\n",
    "![simplical-complexes-definition](./resources/complexes_def.png) \n",
    "\n",
    "其中$\\overline{B_{\\alpha}(x_i)}$代表以数据点$x_i$为圆心，$\\alpha$为半径的闭球。以上两种定义，有以下关系成立\n",
    "\n",
    "\n",
    "$$Rips_{\\alpha}(X) \\subset Cech_{\\alpha}(X) \\subset Rips_{2 \\alpha}(X)$$\n",
    "\n"
   ]
  },
  {
   "cell_type": "code",
   "execution_count": null,
   "metadata": {},
   "outputs": [],
   "source": []
  }
 ],
 "metadata": {
  "kernelspec": {
   "display_name": "Python 3",
   "language": "python",
   "name": "python3"
  },
  "language_info": {
   "codemirror_mode": {
    "name": "ipython",
    "version": 3
   },
   "file_extension": ".py",
   "mimetype": "text/x-python",
   "name": "python",
   "nbconvert_exporter": "python",
   "pygments_lexer": "ipython3",
   "version": "3.7.6"
  }
 },
 "nbformat": 4,
 "nbformat_minor": 4
}
